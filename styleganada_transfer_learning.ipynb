{
  "cells": [
    {
      "cell_type": "code",
      "execution_count": null,
      "metadata": {
        "colab": {
          "base_uri": "https://localhost:8080/"
        },
        "id": "29LSe0d1_3Ww",
        "outputId": "76fe2170-d4c7-46fb-ac92-cab9e6e3d7c9"
      },
      "outputs": [],
      "source": [
        "!git clone https://github.com/NVlabs/stylegan2-ada.git"
      ]
    },
    {
      "cell_type": "code",
      "execution_count": null,
      "metadata": {
        "colab": {
          "base_uri": "https://localhost:8080/"
        },
        "id": "kpajewL6H_G-",
        "outputId": "4cfffe0d-fec6-48e0-f9e9-f0876ccdf10e"
      },
      "outputs": [],
      "source": [
        "%tensorflow_version 1.x "
      ]
    },
    {
      "cell_type": "code",
      "execution_count": null,
      "metadata": {
        "colab": {
          "base_uri": "https://localhost:8080/"
        },
        "id": "5Y8PhJjjJOtK",
        "outputId": "87dfbc62-7031-4c64-b6e4-690d3871f394"
      },
      "outputs": [],
      "source": [
        "%pip install numpy==1.19.5 "
      ]
    },
    {
      "cell_type": "code",
      "execution_count": null,
      "metadata": {
        "colab": {
          "base_uri": "https://localhost:8080/"
        },
        "id": "z_eOq4V9GPct",
        "outputId": "3baaaae2-6ae5-4c97-a0ef-cfd4e7bca728"
      },
      "outputs": [],
      "source": [
        "from google.colab import drive\n",
        "drive.mount('/content/drive')"
      ]
    },
    {
      "cell_type": "code",
      "execution_count": null,
      "metadata": {
        "id": "Wu0W0434L7Nl"
      },
      "outputs": [],
      "source": [
        "import shutil\n",
        "shutil.rmtree('/content/Data')"
      ]
    },
    {
      "cell_type": "code",
      "execution_count": null,
      "metadata": {
        "colab": {
          "base_uri": "https://localhost:8080/"
        },
        "id": "sA1q51QqMKbo",
        "outputId": "68b8dc3c-1905-4d85-c33c-c8f99f79378a"
      },
      "outputs": [],
      "source": [
        "%cd /content\n",
        "!mkdir Data"
      ]
    },
    {
      "cell_type": "code",
      "execution_count": null,
      "metadata": {
        "id": "Hd5LMS0VGhhg"
      },
      "outputs": [],
      "source": [
        "import numpy as np\n",
        "from PIL import Image\n",
        "dataset = np.load('/content/drive/MyDrive/dataset.npy')[:100]\n",
        "path = '/content/Data/'\n",
        "for i,image in enumerate(dataset):\n",
        "  im = Image.fromarray((image*127.5+127.5).astype('uint8'))\n",
        "  im.save(path + f'{i}.jpg')"
      ]
    },
    {
      "cell_type": "code",
      "execution_count": null,
      "metadata": {
        "colab": {
          "base_uri": "https://localhost:8080/"
        },
        "id": "7qjgmnl_HquX",
        "outputId": "835e09c5-7882-459c-d896-8c8709c2acd7"
      },
      "outputs": [],
      "source": [
        "%cd stylegan2-ada"
      ]
    },
    {
      "cell_type": "code",
      "execution_count": null,
      "metadata": {
        "colab": {
          "base_uri": "https://localhost:8080/"
        },
        "id": "DgTYBjj2HJPY",
        "outputId": "5fb065a6-ed33-4035-c010-3afb612d243a"
      },
      "outputs": [],
      "source": [
        "!python dataset_tool.py create_from_images ./datasets/custom-dataset /content/Data"
      ]
    },
    {
      "cell_type": "code",
      "execution_count": null,
      "metadata": {
        "colab": {
          "base_uri": "https://localhost:8080/"
        },
        "id": "CYubY11oH1O_",
        "outputId": "858f53cd-b259-4234-ef0a-6cb394636ef4"
      },
      "outputs": [],
      "source": [
        "!python train.py --outdir ./results --cfg='stylegan2' --snap=100 --data=./datasets/custom-dataset --res=64"
      ]
    },
    {
      "cell_type": "code",
      "execution_count": null,
      "metadata": {
        "id": "SPIVta_yIwLk"
      },
      "outputs": [],
      "source": [
        "!python generate.py --outdir=out --trunc=0.5 --seeds=600-605 --network={path_to_pkl_model_file}"
      ]
    }
  ],
  "metadata": {
    "accelerator": "GPU",
    "colab": {
      "name": "StyleGAN.ipynb",
      "provenance": []
    },
    "kernelspec": {
      "display_name": "Python 3",
      "name": "python3"
    },
    "language_info": {
      "name": "python"
    }
  },
  "nbformat": 4,
  "nbformat_minor": 0
}
